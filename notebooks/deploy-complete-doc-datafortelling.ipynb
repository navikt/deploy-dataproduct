{
 "cells": [
  {
   "cell_type": "raw",
   "id": "7f3606c5",
   "metadata": {
    "vscode": {
     "languageId": "raw"
    }
   },
   "source": [
    "---\n",
    "title: 'Dokumentasjon av deploy-dataproduct (prod)'\n",
    "author: nais-analyse\n",
    "date: now\n",
    "date-format: \"DD.MM.YYYY HH:mm:ss z\"\n",
    "published-title: \"Oppdatert\"\n",
    "execute:\n",
    "  echo: false\n",
    "  output: false\n",
    "toc-title: Innhold\n",
    "format:\n",
    "  html:\n",
    "    include: true\n",
    "    echo: false\n",
    "    theme: flatly\n",
    "    page-layout: full\n",
    "    embed-resources: true\n",
    "jupyter: python3\n",
    "---"
   ]
  },
  {
   "cell_type": "raw",
   "id": "a0bd5622",
   "metadata": {
    "vscode": {
     "languageId": "raw"
    }
   },
   "source": [
    "# For å rendere denne notebooken som html må du ha installert quarto og logget inn med gcloud.\n",
    "# Kjør `quarto render deploy-complete-doc-datafortelling.ipynb --execute`\n",
    "# Følg med på fonten i plottene. Hvis den er annerledes enn forventet må du laste ned xkcd-font.\n",
    "# (Se https://matplotlib.org/stable/api/_as_gen/matplotlib.pyplot.xkcd.html)"
   ]
  },
  {
   "cell_type": "code",
   "execution_count": null,
   "id": "aa716f2d-37c2-4db7-8e49-9591c6eb044b",
   "metadata": {},
   "outputs": [],
   "source": [
    "from datetime import datetime\n",
    "import pandas_gbq\n",
    "import plotly.express as px"
   ]
  },
  {
   "cell_type": "code",
   "execution_count": null,
   "id": "4bb10d52-037d-447b-8a76-6c55f515db3a",
   "metadata": {},
   "outputs": [],
   "source": [
    "df = pandas_gbq.read_gbq(\"SELECT * FROM `nais-analyse-prod-2dcc.deploys.deploys_prod_aggregated`\", project_id='nais-analyse-prod-2dcc')"
   ]
  },
  {
   "cell_type": "code",
   "execution_count": null,
   "id": "9f83a02f-d364-40da-b4ff-39ea22ab5460",
   "metadata": {},
   "outputs": [],
   "source": [
    "#Filter out canaries and auto-deployed system apps\n",
    "df = df[df['application'] != 'nais-deploy-canary']\n",
    "df = df[df['application'] != 'testapp-storage']\n",
    "df = df[df['application'] != 'kafkarator-canary']"
   ]
  },
  {
   "cell_type": "code",
   "execution_count": null,
   "id": "22d4bef5-37f1-47ae-80d2-38d6ff8d15e6",
   "metadata": {},
   "outputs": [],
   "source": [
    "df['weeknr'] = df['deployed_timestamp'].dt.isocalendar().week.astype(str)\n",
    "df['weeknr'] = df['weeknr'].apply(lambda x: x.zfill(2))\n",
    "df['year'] = df['deployed_timestamp'].dt.isocalendar().year.astype(str)\n",
    "df['monthnr'] = df['deployed_timestamp'].dt.month.astype(str)\n",
    "df['monthnr'] = df['monthnr'].apply(lambda x: x.zfill(2))\n",
    "df['week'] = df['year'] + '-' + df['weeknr']\n",
    "df['month'] = df['year'] + '-' + df['monthnr']"
   ]
  },
  {
   "cell_type": "code",
   "execution_count": null,
   "id": "b968599b-f7f9-41e3-a48c-758a28c06c78",
   "metadata": {},
   "outputs": [],
   "source": [
    "start = df['deployed_timestamp'].min()"
   ]
  },
  {
   "cell_type": "code",
   "execution_count": null,
   "id": "7cf0a11f-1fa0-48a9-a3a7-0a9e6f1f4fac",
   "metadata": {},
   "outputs": [],
   "source": [
    "df_month_prod = df.groupby('month').size().reset_index(name='antall')\n",
    "fig_month_prod = px.bar(df_month_prod, x='month', y='antall')\n",
    "fig_month_prod.update_xaxes(type='category')\n",
    "fig_month_prod.show()"
   ]
  },
  {
   "cell_type": "code",
   "execution_count": null,
   "id": "73ba1a72-8870-4fce-a194-d298cb974322",
   "metadata": {},
   "outputs": [],
   "source": [
    "df_year = df.groupby('year').size().reset_index(name='antall')\n",
    "df_year = df_year[df_year['year'].astype(int)>2014]"
   ]
  },
  {
   "cell_type": "code",
   "execution_count": null,
   "id": "9653d647",
   "metadata": {},
   "outputs": [],
   "source": [
    "df_weekly_avg = df.groupby(['weeknr', 'year']).size().reset_index(name='antall') \\\n",
    "       .groupby('year').agg(snitt_deploys_per_uke=('antall', 'mean')).reset_index()\n",
    "df_weekly_avg['snitt_deploys_per_uke'] = df_weekly_avg['snitt_deploys_per_uke'].round(0)\n",
    "df_weekly_avg = df_weekly_avg[df_weekly_avg['year'].astype(int)>2014]"
   ]
  },
  {
   "cell_type": "code",
   "execution_count": null,
   "id": "4206efea-7f3b-410b-9c8a-10fe9f6c6231",
   "metadata": {},
   "outputs": [],
   "source": [
    "description = f'''Deploy-dataproduct (prod) inneholder deploys til prod lest ut fra `vera` og `devrapid` i perioden fra {start.strftime(\"%Y-%m-%d kl %H:%M:%S\")} til nå. Dataproduktet oppdateres i sanntid.'''"
   ]
  },
  {
   "cell_type": "code",
   "execution_count": null,
   "id": "ddebb329",
   "metadata": {},
   "outputs": [],
   "source": [
    "#| output: true\n",
    "from IPython.display import Markdown\n",
    "Markdown(description)"
   ]
  },
  {
   "cell_type": "markdown",
   "id": "3c51e946",
   "metadata": {},
   "source": [
    "# Eksempler\n",
    "## Deploys til produksjon per måned\n",
    "\n",
    "I denne grafen har vi telt opp antall deploys til produksjon per år."
   ]
  },
  {
   "cell_type": "code",
   "execution_count": null,
   "id": "7e61869a-1097-4c20-8ff9-f71ffb01b6a7",
   "metadata": {},
   "outputs": [],
   "source": [
    "#| output: true\n",
    "\n",
    "import numpy as np\n",
    "import matplotlib.pyplot as plt\n",
    "\n",
    "fig_year = plt.figure(figsize=(14, 6), dpi=80)\n",
    "\n",
    "with plt.xkcd():\n",
    "    plt.bar(df_year['year'], df_year['antall'], color='grey')\n",
    "    plt.title('Deploys to production in NAV')\n",
    "    plt.xlabel('year')\n",
    "    plt.ylabel('deploys')"
   ]
  },
  {
   "cell_type": "markdown",
   "id": "50f3623d",
   "metadata": {},
   "source": [
    "I denne grafen har vi gjennomsnittlig antall deploys til produksjon per uke."
   ]
  },
  {
   "cell_type": "code",
   "execution_count": null,
   "id": "5339d96f",
   "metadata": {},
   "outputs": [],
   "source": [
    "#| output: true\n",
    "\n",
    "fig_yearly_avg = plt.figure(figsize=(14, 6), dpi=80)\n",
    "\n",
    "with plt.xkcd():\n",
    "    plt.bar(df_weekly_avg['year'], df_weekly_avg['snitt_deploys_per_uke'], color='grey')\n",
    "    plt.title('Average weekly deploys to production in NAV')\n",
    "    plt.xlabel('year')\n",
    "    plt.ylabel('deploys per week')"
   ]
  }
 ],
 "metadata": {
  "environment": {
   "kernel": "python3",
   "name": "common-cpu.m87",
   "type": "gcloud",
   "uri": "gcr.io/deeplearning-platform-release/base-cpu:m87"
  },
  "kernelspec": {
   "display_name": "Python 3 (ipykernel)",
   "language": "python",
   "name": "python3"
  },
  "language_info": {
   "codemirror_mode": {
    "name": "ipython",
    "version": 3
   },
   "file_extension": ".py",
   "mimetype": "text/x-python",
   "name": "python",
   "nbconvert_exporter": "python",
   "pygments_lexer": "ipython3",
   "version": "3.11.9"
  }
 },
 "nbformat": 4,
 "nbformat_minor": 5
}
