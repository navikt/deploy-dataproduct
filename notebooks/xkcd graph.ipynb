{
 "cells": [
  {
   "cell_type": "code",
   "execution_count": null,
   "id": "5dcf3296-a783-4bb0-959e-333cfd187f9b",
   "metadata": {},
   "outputs": [],
   "source": [
    "import pandas_gbq"
   ]
  },
  {
   "cell_type": "code",
   "execution_count": null,
   "id": "5cdf71e8-7e90-468d-9e62-8077d93c6fe6",
   "metadata": {},
   "outputs": [],
   "source": [
    "df = pandas_gbq.read_gbq(\"SELECT * FROM `nais-analyse-prod-2dcc.deploys.deploys_prod_aggregated`\", project_id='nais-analyse-prod-2dcc')"
   ]
  },
  {
   "cell_type": "code",
   "execution_count": null,
   "id": "e7c54982",
   "metadata": {},
   "outputs": [],
   "source": [
    "#Filter out canaries and auto-deployed system apps\n",
    "df = df[df['application'] != 'nais-deploy-canary']\n",
    "df = df[df['application'] != 'testapp-storage']\n",
    "df = df[df['application'] != 'kafkarator-canary']"
   ]
  },
  {
   "cell_type": "code",
   "execution_count": null,
   "id": "d8c3a74d-e5b5-439a-8717-621c1df8187d",
   "metadata": {},
   "outputs": [],
   "source": [
    "df['dato'] = df['deployed_timestamp'].dt.date\n",
    "df['ukenr'] = df['deployed_timestamp'].dt.isocalendar().week.astype('str')\n",
    "df['ukenr'] = df['ukenr'].apply( lambda x: x.zfill(2))\n",
    "df['uke'] = df['deployed_timestamp'].dt.isocalendar().year.astype('str') + '-' + df['ukenr']\n",
    "df['måned'] = df['deployed_timestamp'].dt.month\n",
    "df['måned'] = df['måned'].astype('str').apply(lambda x: x.zfill(2))\n",
    "df['måned'] = df['deployed_timestamp'].dt.isocalendar().year.astype('str') + '-' + df['måned']\n",
    "df['år'] = df['deployed_timestamp'].dt.isocalendar().year\n",
    "df['app'] = df['application']"
   ]
  },
  {
   "cell_type": "code",
   "execution_count": null,
   "id": "9ae88653-ece5-46f8-9d76-1646caa64735",
   "metadata": {},
   "outputs": [],
   "source": [
    "år = df.groupby(['uke', 'år']).size().reset_index(name='antall') \\\n",
    "       .groupby('år').agg(snitt_deploys_per_uke=('antall', 'mean')).reset_index()\n",
    "år['snitt_deploys_per_uke'] = år['snitt_deploys_per_uke'].round(0)\n",
    "år = år[år['år']>2014]"
   ]
  },
  {
   "cell_type": "code",
   "execution_count": null,
   "id": "c13de3f5-80d1-4746-a3f2-bc27e49ce815",
   "metadata": {},
   "outputs": [],
   "source": [
    "import matplotlib.pyplot as plt\n",
    "from matplotlib.pyplot import figure\n",
    "figure(figsize=(14, 6), dpi=80)\n",
    " \n",
    "with plt.xkcd():\n",
    "    plt.bar(år['år'], år['snitt_deploys_per_uke'], color='grey')\n",
    "    plt.title('Average weekly deploys to production in NAV')\n",
    "    plt.xlabel('year')\n",
    "    plt.ylabel('deploys per week')\n",
    "\n",
    "     \n",
    "    plt.show()"
   ]
  }
 ],
 "metadata": {
  "kernelspec": {
   "display_name": "Python 3 (ipykernel)",
   "language": "python",
   "name": "python3"
  },
  "language_info": {
   "codemirror_mode": {
    "name": "ipython",
    "version": 3
   },
   "file_extension": ".py",
   "mimetype": "text/x-python",
   "name": "python",
   "nbconvert_exporter": "python",
   "pygments_lexer": "ipython3",
   "version": "3.11.9"
  }
 },
 "nbformat": 4,
 "nbformat_minor": 5
}
